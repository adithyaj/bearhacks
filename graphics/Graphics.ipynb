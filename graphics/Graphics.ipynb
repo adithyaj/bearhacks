{
 "cells": [
  {
   "cell_type": "markdown",
   "metadata": {},
   "source": [
    "# Graphics"
   ]
  },
  {
   "cell_type": "code",
   "execution_count": null,
   "metadata": {
    "collapsed": true
   },
   "outputs": [],
   "source": [
    "import numpy as np\n",
    "from scipy import misc, ndimage\n",
    "from skimage import feature, io, filters, morphology, measure\n",
    "from skimage import data, color\n",
    "import matplotlib.pyplot as plt\n",
    "%matplotlib inline"
   ]
  },
  {
   "cell_type": "markdown",
   "metadata": {},
   "source": [
    "## What is Computer Graphics?"
   ]
  },
  {
   "cell_type": "markdown",
   "metadata": {},
   "source": [
    "## Image Basics\n",
    "Images are made up of a grid of small colored squares called **Pixels**"
   ]
  },
  {
   "cell_type": "code",
   "execution_count": null,
   "metadata": {
    "collapsed": false
   },
   "outputs": [],
   "source": [
    "filename = \"banana.jpg\"\n",
    "img = data.imread(filename,as_grey=True)\n",
    "img_rgb = misc.imread(filename)"
   ]
  },
  {
   "cell_type": "code",
   "execution_count": null,
   "metadata": {
    "collapsed": false
   },
   "outputs": [],
   "source": [
    "plt.imshow(img_rgb)\n",
    "plt.show()\n",
    "print(\"shape of image RGB is \" + str(img_rgb.shape))"
   ]
  },
  {
   "cell_type": "markdown",
   "metadata": {},
   "source": [
    "### RGB Color Model\n",
    "\n",
    "Images are made up of a 2 dimensional grid. The size of these dimensions are the first 2 numbers in the shape output above.\n",
    "\n",
    "We call each cell in the grid a *pixel*. Each pixel has a location that is equal to its position in the x and y axis. The top left location is (0, 0)\n",
    "\n",
    "If we zoom in far enough, we can see these pixels:"
   ]
  },
  {
   "cell_type": "code",
   "execution_count": null,
   "metadata": {
    "collapsed": false
   },
   "outputs": [],
   "source": [
    "plt.imshow(img_rgb, interpolation='none')\n",
    "plt.xlim(0,5)\n",
    "plt.ylim(0,5)\n",
    "plt.show()"
   ]
  },
  {
   "cell_type": "markdown",
   "metadata": {},
   "source": [
    "How does an image determine what color to display each pixel? This is what the third dimension of an image is for. Here is an example value of this dimension:"
   ]
  },
  {
   "cell_type": "code",
   "execution_count": null,
   "metadata": {
    "collapsed": false
   },
   "outputs": [],
   "source": [
    "print(img_rgb[0,0])"
   ]
  },
  {
   "cell_type": "markdown",
   "metadata": {},
   "source": [
    "Each channel corresponds to the colors Red Green and Blue (where \"RGB\" comes from), and each value is how much of that color to mix."
   ]
  },
  {
   "cell_type": "code",
   "execution_count": null,
   "metadata": {
    "collapsed": false
   },
   "outputs": [],
   "source": [
    "#print(str(img_rgb))"
   ]
  },
  {
   "cell_type": "markdown",
   "metadata": {},
   "source": [
    "You can change the value of a pixel by setting it to a new combination of Red Green and Blue:"
   ]
  },
  {
   "cell_type": "code",
   "execution_count": null,
   "metadata": {
    "collapsed": false
   },
   "outputs": [],
   "source": [
    "width = 200\n",
    "height = 200\n",
    "new_drawing(width, height)\n",
    "for x in range(width):\n",
    "    for y in range(height):\n",
    "        set_color(int(255 * (x/width)), int(255 * (y/height)), 128)\n",
    "        set_pixel(x, y)\n",
    "show()"
   ]
  },
  {
   "cell_type": "markdown",
   "metadata": {},
   "source": [
    "## Graphics Techniques\n",
    "\n",
    "Realism vs. Speed"
   ]
  },
  {
   "cell_type": "markdown",
   "metadata": {},
   "source": [
    "### Raytracing\n",
    "\n",
    "Pros, it can be used to create very realistic images\n",
    "\n",
    "Cons, its very slow and cannot be used for realtime applications"
   ]
  },
  {
   "cell_type": "markdown",
   "metadata": {},
   "source": [
    "### Polygons\n",
    "\n",
    "Pros, it is very fast and most computers have specialized hardware to deal with polygon based graphics\n",
    "\n",
    "Cons, it does not look as realistic"
   ]
  },
  {
   "cell_type": "markdown",
   "metadata": {},
   "source": [
    "## Writing a Raytracer"
   ]
  },
  {
   "cell_type": "markdown",
   "metadata": {},
   "source": [
    "[TODO: Write a tutorial for developing all of the code below]"
   ]
  },
  {
   "cell_type": "code",
   "execution_count": null,
   "metadata": {
    "collapsed": true
   },
   "outputs": [],
   "source": [
    "from drawing import *\n",
    "\n",
    "# Useful math functions for dealing with vectors\n",
    "# Not strictly necessary to understand these\n",
    "def add(a, b):\n",
    "    return (a[0] + b[0], a[1] + b[1], a[2] + b[2])\n",
    "\n",
    "def scale(a, r):\n",
    "    return (a[0] * r, a[1] * r, a[2] * r)\n",
    "\n",
    "def dot(a, b):\n",
    "    return a[0] * b[0] + a[1] * b[1] + a[2] * b[2]\n",
    "\n",
    "def subtract(a, b):\n",
    "    return add(a, scale(b, -1))\n",
    "\n",
    "def normalize(a):\n",
    "    return scale(a, 1/sqrt(dot(a,a)))"
   ]
  },
  {
   "cell_type": "markdown",
   "metadata": {},
   "source": [
    "Our raytracer will only initially trace against spheres. Lets define a class in Python that allows us to keep track of these. The important attributes of a sphere will be its world coordinate location (position), its size (radius) and its color.\n",
    "\n",
    "#### Sphere Class\n",
    "\n",
    "For every type of object we want to render with the raytracer, we need to define how to intersect it with a ray. We do this by defining the method **intersect** on each shape type. We have provided an implementation of ray-sphere intersection in the Sphere class below. If you are curious about how it works, check out this wikipedia article (there are also many other resources online about the topic)\n",
    "\n",
    "https://en.wikipedia.org/wiki/Line%E2%80%93sphere_intersection\n",
    "\n",
    "We also need each type of object to tell the raytracer how to color it. We must define the function **colorize** for each shape type. For now, we will just return the color of the sphere and see what the results look like!"
   ]
  },
  {
   "cell_type": "code",
   "execution_count": null,
   "metadata": {
    "collapsed": true
   },
   "outputs": [],
   "source": [
    "class Sphere:\n",
    "    def __init__(self, radius, position, color):\n",
    "        self.radius = radius\n",
    "        self.position = position\n",
    "        self.color = color\n",
    "    def intersect(self, source, direction, min_distance=0.01):\n",
    "        v = subtract(source, self.position)\n",
    "        b = -dot(v, direction)\n",
    "        v2, r2 = dot(v,v), self.radius * self.radius\n",
    "        d2 = b*b - v2 + r2\n",
    "        if d2 > 0:\n",
    "            for d in (b - sqrt(d2), b+sqrt(d2)):\n",
    "                if d > min_distance:\n",
    "                    return d\n",
    "        return None\n",
    "    def illumination(self, direction, surface, scene):\n",
    "        return self.color"
   ]
  },
  {
   "cell_type": "markdown",
   "metadata": {},
   "source": [
    "Now that we have a shape that we can raytrace, we need to be able to actually trace it! We will make this easier be defining a Scene class\n",
    "\n",
    "#### Scene Class\n",
    "\n",
    "The scene class allows us to keep track of all of the objects in the scene, as well as the camera and light positions. We will need attributes to keep track of all of these. Additionally, the Scene class will"
   ]
  },
  {
   "cell_type": "code",
   "execution_count": null,
   "metadata": {
    "collapsed": false
   },
   "outputs": [],
   "source": [
    "class Scene:\n",
    "    def __init__(self, objects, lights, camera, ambient):\n",
    "        self.objects = objects\n",
    "        self.lights = lights\n",
    "        self.camera = camera\n",
    "        self.ambient = ambient\n",
    "    def trace(self, source, direction):\n",
    "        hits = []\n",
    "        for s in self.objects:\n",
    "            d = s.intersect(source,direction)\n",
    "            if d is not None:\n",
    "                hits.append((d, s))\n",
    "        if not hits:\n",
    "            return (0,0,0)\n",
    "        distance, sphere = min(hits)\n",
    "        surface = add(source, scale(direction, distance))\n",
    "        return sphere.illumination(direction, surface, self)\n",
    "\n",
    "def default_scene():\n",
    "    objects = [\n",
    "        Sphere(1, (0,0,5), (255,255,255)),\n",
    "    ]\n",
    "    lights = (2,2,0)\n",
    "    camera = (0,0,1)\n",
    "    ambient = 0.2\n",
    "    return Scene(objects, lights, camera, ambient)\n",
    "    \n",
    "def render():\n",
    "    width = 200\n",
    "    height = 200\n",
    "    scene = default_scene()\n",
    "    new_drawing(width, height)\n",
    "    for x in range(width):\n",
    "        for y in range(height):\n",
    "            direction = normalize((x/width-0.5, y/height-0.5, 1))\n",
    "            color = scene.trace(scene.camera, direction)\n",
    "            set_color(color[0], color[1], color[2])\n",
    "            set_pixel(x, height-y)\n",
    "    show()"
   ]
  },
  {
   "cell_type": "code",
   "execution_count": null,
   "metadata": {
    "collapsed": false
   },
   "outputs": [],
   "source": [
    "render()"
   ]
  },
  {
   "cell_type": "markdown",
   "metadata": {},
   "source": [
    "We can modify the illumination function to change how the sphere gets its color. We will take into account the angle to the light that is in the scene object\n",
    "\n",
    "[TODO: Insert graphic for this]"
   ]
  },
  {
   "cell_type": "code",
   "execution_count": null,
   "metadata": {
    "collapsed": false
   },
   "outputs": [],
   "source": [
    "def ill(self, direction, surface, scene):\n",
    "    to_surface = subtract(surface, self.position)\n",
    "    to_light = subtract(scene.lights, surface)\n",
    "    intensity = max(scene.ambient,\n",
    "                    dot(normalize(to_light), normalize(to_surface)))\n",
    "    return scale(self.color, intensity)\n",
    "\n",
    "Sphere.illumination = ill\n",
    "render()"
   ]
  },
  {
   "cell_type": "markdown",
   "metadata": {},
   "source": [
    "We can also modify the scene to include multiple objects. We do that by redefining the **default_scene** method. Here is an example of that."
   ]
  },
  {
   "cell_type": "code",
   "execution_count": null,
   "metadata": {
    "collapsed": false
   },
   "outputs": [],
   "source": [
    "def default_scene():\n",
    "    objects = [\n",
    "        Sphere(1, (0,0,5), (0,255,255)),\n",
    "        Sphere(1, (1,0,5), (255,0,255)),\n",
    "    ]\n",
    "    lights = (2,2,0)\n",
    "    camera = (0,0,1)\n",
    "    ambient = 0.2\n",
    "    return Scene(objects, lights, camera, ambient)\n",
    "\n",
    "render()"
   ]
  },
  {
   "cell_type": "markdown",
   "metadata": {
    "collapsed": true
   },
   "source": [
    "## What's next?\n",
    "From here you can modify the ray tracer in countless ways. You could add new material types (reflective, different shading types, glass), you could add casted shadows, new shape types (planes, boxes), you can add textures.\n",
    "\n",
    "Another option would be to programatically generate a scene. What are we able to render using just spheres? Could we general sphere locations/sizes using an algorithm to create a cool piece of art? Lets see an example of that..."
   ]
  },
  {
   "cell_type": "code",
   "execution_count": null,
   "metadata": {
    "collapsed": false
   },
   "outputs": [],
   "source": [
    "def default_scene():\n",
    "    objects = []\n",
    "    y = -5\n",
    "    for i in range(1, 10):\n",
    "        objects.append(Sphere(i/5, (0,y,15), (255-25*i,25*i,0)))\n",
    "        y += i/5\n",
    "    lights = (2,2,0)\n",
    "    camera = (0,0,1)\n",
    "    ambient = 0.2\n",
    "    return Scene(objects, lights, camera, ambient)\n",
    "\n",
    "render()"
   ]
  },
  {
   "cell_type": "markdown",
   "metadata": {},
   "source": [
    "Some kind of worm?? Who knows!"
   ]
  },
  {
   "cell_type": "code",
   "execution_count": null,
   "metadata": {
    "collapsed": true
   },
   "outputs": [],
   "source": []
  }
 ],
 "metadata": {
  "kernelspec": {
   "display_name": "Python 3",
   "language": "python",
   "name": "python3"
  },
  "language_info": {
   "codemirror_mode": {
    "name": "ipython",
    "version": 3
   },
   "file_extension": ".py",
   "mimetype": "text/x-python",
   "name": "python",
   "nbconvert_exporter": "python",
   "pygments_lexer": "ipython3",
   "version": "3.5.1"
  }
 },
 "nbformat": 4,
 "nbformat_minor": 1
}

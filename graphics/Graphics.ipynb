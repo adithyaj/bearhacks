{
 "cells": [
  {
   "cell_type": "markdown",
   "metadata": {},
   "source": [
    "# Graphics"
   ]
  },
  {
   "cell_type": "code",
   "execution_count": null,
   "metadata": {
    "collapsed": true
   },
   "outputs": [],
   "source": [
    "import numpy as np\n",
    "from scipy import misc, ndimage\n",
    "from skimage import feature, io, filters, morphology, measure\n",
    "from skimage import data, color\n",
    "import matplotlib.pyplot as plt\n",
    "from drawing import *\n",
    "%matplotlib inline"
   ]
  },
  {
   "cell_type": "markdown",
   "metadata": {},
   "source": [
    "## What is Computer Graphics?\n",
    "\n",
    "It is the field of computer science associated with generating and manipulating images. It is used in many fields such as design, movies, video games, etc. Therefore to understand computer graphics we need to understand how images are represented on computers."
   ]
  },
  {
   "cell_type": "markdown",
   "metadata": {},
   "source": [
    "## Image Basics\n",
    "Images are made up of a grid of small colored squares called **Pixels**"
   ]
  },
  {
   "cell_type": "code",
   "execution_count": null,
   "metadata": {
    "collapsed": false
   },
   "outputs": [],
   "source": [
    "filename = \"banana.jpg\"\n",
    "img = data.imread(filename,as_grey=True)\n",
    "img_rgb = misc.imread(filename)"
   ]
  },
  {
   "cell_type": "code",
   "execution_count": null,
   "metadata": {
    "collapsed": false
   },
   "outputs": [],
   "source": [
    "plt.imshow(img_rgb)\n",
    "plt.show()\n",
    "print(\"shape of image RGB is \" + str(img_rgb.shape))"
   ]
  },
  {
   "cell_type": "markdown",
   "metadata": {},
   "source": [
    "### RGB Color Model\n",
    "\n",
    "Images are made up of a 2 dimensional grid. The size of these dimensions are the first 2 numbers in the shape output above.\n",
    "\n",
    "We call each cell in the grid a *pixel*. Each pixel has a location that is equal to its position in the x and y axis. The top left location is (0, 0)\n",
    "\n",
    "If we zoom in far enough, we can see these pixels:"
   ]
  },
  {
   "cell_type": "code",
   "execution_count": null,
   "metadata": {
    "collapsed": false
   },
   "outputs": [],
   "source": [
    "plt.imshow(img_rgb, interpolation='none')\n",
    "plt.xlim(0,5)\n",
    "plt.ylim(0,5)\n",
    "plt.show()"
   ]
  },
  {
   "cell_type": "markdown",
   "metadata": {},
   "source": [
    "How does an image determine what color to display each pixel? This is what the third dimension of an image is for. Here is an example value of this dimension:"
   ]
  },
  {
   "cell_type": "code",
   "execution_count": null,
   "metadata": {
    "collapsed": false
   },
   "outputs": [],
   "source": [
    "print(img_rgb[0,0])"
   ]
  },
  {
   "cell_type": "markdown",
   "metadata": {},
   "source": [
    "Each channel corresponds to the colors Red Green and Blue (where \"RGB\" comes from), and each value is how much of that color to mix."
   ]
  },
  {
   "cell_type": "code",
   "execution_count": null,
   "metadata": {
    "collapsed": false
   },
   "outputs": [],
   "source": [
    "#print(str(img_rgb))"
   ]
  },
  {
   "cell_type": "markdown",
   "metadata": {},
   "source": [
    "You can change the value of a pixel by setting it to a new combination of Red Green and Blue:"
   ]
  },
  {
   "cell_type": "code",
   "execution_count": null,
   "metadata": {
    "collapsed": false
   },
   "outputs": [],
   "source": [
    "# Set the new color to (0, 255, 0)\n",
    "img_rgb[1,1] = np.array([0, 255, 0])\n",
    "\n",
    "# show the modified image\n",
    "plt.imshow(img_rgb, interpolation='none')\n",
    "plt.xlim(0,5)\n",
    "plt.ylim(0,5)\n",
    "plt.show()"
   ]
  },
  {
   "cell_type": "markdown",
   "metadata": {},
   "source": [
    "Now we will write our first piece of computer graphics code.\n",
    "\n",
    "The following is a python snippet that will go through every pixel in the image and set it to a color based on the x,y position of the pixel. This idea of setting the color of a pixel based on its position in the image is central to computer graphics!\n",
    "\n",
    "We will also introduce you to some drawing methods that we will be using to generate images.\n",
    "* **new_drawing(w, h)** - creates a new image for us to draw on with width **w** and height **h**\n",
    "* **set_color(r, g, b)** - set the color for the next time we use **set_pixel**. Think of it like changing the color of your pen\n",
    "* **set_pixel(x, y)** - set the pixel at coordinate **x**, **y** to the current value of our pen\n",
    "\n",
    "This type of graphic is called a gradient. Try to modify this piece of code to generate gradients of different colors."
   ]
  },
  {
   "cell_type": "code",
   "execution_count": null,
   "metadata": {
    "collapsed": false
   },
   "outputs": [],
   "source": [
    "width = 200\n",
    "height = 200\n",
    "new_drawing(width, height)\n",
    "for x in range(width):\n",
    "    for y in range(height):\n",
    "        set_color(255 * (x / width), 255 * (y / height), 127)\n",
    "        set_pixel(x, y)\n",
    "show()"
   ]
  },
  {
   "cell_type": "markdown",
   "metadata": {},
   "source": [
    "## Graphics Techniques\n",
    "\n",
    "There are 2 primary ways of doing computer graphics: **Projective geometry**, and **raytracing**. This tutorial will focus on the raytracing technique, but we will discuss projective geometry briefly.\n",
    "\n",
    "### Projective Geometry\n",
    "\n",
    "Most modern computers are equippied with video cards that are designed to quickly process projective geometry. Video games and most 3d animations that run on your computer will use this technique. Shapes are represented as 3d triangles, and you must use many (millions) of triangles to make a very nice looking scene. In fact most of the time when you upgrade your video card a common metric is how many triangles per second your card can render.\n",
    "\n",
    "On the upside, every computer has special hardware to generate these kinds of images so it is very fast. But it is also a lot more complicated and requires special understanding of the video card hardware.\n",
    "\n",
    "<img src=\"images/polygon-count.jpeg\" />"
   ]
  },
  {
   "cell_type": "markdown",
   "metadata": {},
   "source": [
    "### Raytracing\n",
    "\n",
    "The other technique is often used when realtime animation is not needed. Instead of using triangles as its fundamental shape type, it can represent any shape (sphere, boxes, planes, etc).\n",
    "\n",
    "These types of images are generated by shooting a line outward from every pixel in the image. We write code to find what shape that line intersects with, and we use some shading techniques to determine what the color should be. Then we set the color of the pixel that we shot the line out of to that color. We do this for every pixel.\n",
    "\n",
    "<img src=\"images/Ray_trace_diagram.svg\" style=\"width:600px;\"/>\n",
    "\n",
    "We can see from this diagram that every object in the scene has a location in 3d space. This will be important to keep in mind for later!\n",
    "\n",
    "This process is extremely slow, but its beneficial in that it can generate very realistic images. In fact, all of the special effects in movies, and animated movies like Pixar films, use a raytracer to generate their graphics.\n",
    "\n",
    "<img src=\"images/Glasses_800_edit.png\" style=\"width: 600px;\"/>"
   ]
  },
  {
   "cell_type": "markdown",
   "metadata": {},
   "source": [
    "## Writing a Raytracer\n",
    "\n",
    "The rest of this tutorial will involve a walkthrough of writing our own simple raytracer. First things first, to really understand what is going on it is important to understand some vector math. We have written some functions to help you perform some basic vector math operations. If you arent familiar with this kind of thing, thats ok! Its not completely necessary to get through the tutorial."
   ]
  },
  {
   "cell_type": "code",
   "execution_count": null,
   "metadata": {
    "collapsed": true
   },
   "outputs": [],
   "source": [
    "# Useful math functions for dealing with vectors\n",
    "# Not strictly necessary to understand these\n",
    "def add(a, b):\n",
    "    return (a[0] + b[0], a[1] + b[1], a[2] + b[2])\n",
    "\n",
    "def scale(a, r):\n",
    "    return (a[0] * r, a[1] * r, a[2] * r)\n",
    "\n",
    "def dot(a, b):\n",
    "    return a[0] * b[0] + a[1] * b[1] + a[2] * b[2]\n",
    "\n",
    "def subtract(a, b):\n",
    "    return add(a, scale(b, -1))\n",
    "\n",
    "def normalize(a):\n",
    "    return scale(a, 1/sqrt(dot(a,a)))"
   ]
  },
  {
   "cell_type": "markdown",
   "metadata": {},
   "source": [
    "Our raytracer will only initially trace against spheres. Lets define a class in Python that allows us to keep track of these. The important attributes of a sphere will be its world coordinate location (position), its size (radius) and its color.\n",
    "\n",
    "#### Sphere Class\n",
    "\n",
    "For every type of object we want to render with the raytracer, we need to define how to intersect it with a ray. We do this by defining the method **intersect** on each shape type. We have provided an implementation of ray-sphere intersection in the Sphere class below. If you are curious about how it works, check out this wikipedia article (there are also many other resources online about the topic)\n",
    "\n",
    "https://en.wikipedia.org/wiki/Line%E2%80%93sphere_intersection\n",
    "\n",
    "We also need each type of object to tell the raytracer how to color it. We must define the function **colorize** for each shape type. For now, we will just return the color of the sphere and see what the results look like!"
   ]
  },
  {
   "cell_type": "code",
   "execution_count": null,
   "metadata": {
    "collapsed": true
   },
   "outputs": [],
   "source": [
    "class Sphere:\n",
    "    def __init__(self, radius, position, color):\n",
    "        self.radius = radius\n",
    "        self.position = position\n",
    "        self.color = color\n",
    "    def intersect(self, source, direction, min_distance=0.01):\n",
    "        v = subtract(source, self.position)\n",
    "        b = -dot(v, direction)\n",
    "        v2, r2 = dot(v,v), self.radius * self.radius\n",
    "        d2 = b*b - v2 + r2\n",
    "        if d2 > 0:\n",
    "            for d in (b - sqrt(d2), b+sqrt(d2)):\n",
    "                if d > min_distance:\n",
    "                    return d\n",
    "        return None\n",
    "    def colorize(self, direction, surface, scene):\n",
    "        return self.color"
   ]
  },
  {
   "cell_type": "markdown",
   "metadata": {},
   "source": [
    "Now that we have a shape that we can raytrace, we need to be able to actually trace it! We will make this easier be defining a Scene class\n",
    "\n",
    "#### Scene Class\n",
    "\n",
    "The scene class allows us to keep track of all of the objects in the scene, as well as the camera and light positions. We will need attributes to keep track of all of these. Additionally, the Scene class will allow us to trace a line into the scene, to intersect with the objects in front of the line. This is a critical part of how the raytracer works. Please read the comments in the code below to get an understanding of what this code does!"
   ]
  },
  {
   "cell_type": "code",
   "execution_count": null,
   "metadata": {
    "collapsed": false
   },
   "outputs": [],
   "source": [
    "class Scene:\n",
    "    def __init__(self, objects, lights, camera, ambient):\n",
    "        self.objects = objects\n",
    "        self.lights = lights\n",
    "        self.camera = camera\n",
    "        self.ambient = ambient\n",
    "    def trace(self, source, direction):\n",
    "        # We will keep track of all of the objects that we hit in this list\n",
    "        hits = []\n",
    "        # Go through every object in the scene, and try to intersect it.\n",
    "        # If we find an intersection, add it to the hit list\n",
    "        for s in self.objects:\n",
    "            d = s.intersect(source,direction)\n",
    "            if d is not None:\n",
    "                hits.append((d, s))\n",
    "        # If we have hit nothing, then its just empty space so set the color to black!\n",
    "        if not hits:\n",
    "            return (0,0,0)\n",
    "        # Find the closest object in the hit list\n",
    "        distance, sphere = min(hits)\n",
    "        surface = add(source, scale(direction, distance))\n",
    "        # Return the color for this object\n",
    "        return sphere.colorize(direction, surface, self)"
   ]
  },
  {
   "cell_type": "markdown",
   "metadata": {},
   "source": [
    "Now we have most of the components to trace a bunch of shapes in our scene, lets write a function that creates a scene. That is, it will create new instances of Sphere objects and place them in a new Scene object, as well as define all the positions for lights and the camera.\n",
    "\n",
    "We also define a function here called render, which will create a new image and go through every pixel and trace into the scene from that location. Notice how render looks rather similar to the gradient we generated above? They both involve computing pixel values at every pixel."
   ]
  },
  {
   "cell_type": "code",
   "execution_count": null,
   "metadata": {
    "collapsed": true
   },
   "outputs": [],
   "source": [
    "def default_scene():\n",
    "    # We will create a scene with 1 sphere that is color (255, 255, 255) in RGB.\n",
    "    objects = [\n",
    "        Sphere(1, (0,0,5), (255,255,255)),\n",
    "    ]\n",
    "    lights = (2,2,0)\n",
    "    camera = (0,0,1)\n",
    "    ambient = 0.2\n",
    "    return Scene(objects, lights, camera, ambient)\n",
    "    \n",
    "def render():\n",
    "    # Make a 200x200 sized image. Try setting this to something larger and see how it takes longer!\n",
    "    width = 200\n",
    "    height = 200\n",
    "    scene = default_scene()\n",
    "    new_drawing(width, height)\n",
    "    for x in range(width):\n",
    "        for y in range(height):\n",
    "            # The direction that we will trace outward will be based on the pixel location\n",
    "            direction = normalize((x/width-0.5, y/height-0.5, 1))\n",
    "            # This is where we trace into the scene to get the color of this pixel\n",
    "            color = scene.trace(scene.camera, direction)\n",
    "            # Set the pixel color!\n",
    "            set_color(color[0], color[1], color[2])\n",
    "            set_pixel(x, height-y)\n",
    "    show()"
   ]
  },
  {
   "cell_type": "markdown",
   "metadata": {},
   "source": [
    "Lets give it a try! What do you expect to see?"
   ]
  },
  {
   "cell_type": "code",
   "execution_count": null,
   "metadata": {
    "collapsed": false
   },
   "outputs": [],
   "source": [
    "render()"
   ]
  },
  {
   "cell_type": "markdown",
   "metadata": {},
   "source": [
    "Is this what you expected? Its rather plain, isnt it? This is because in the colorize function, all we did was return the color of the sphere. We did not take the lights into account..."
   ]
  },
  {
   "cell_type": "markdown",
   "metadata": {},
   "source": [
    "We can modify the colorize function to change how the sphere gets its color. We will take into account the angle to the light that is in the scene object\n",
    "\n",
    "(See the previous graphic in the Raytracing section to get an idea of how this works)"
   ]
  },
  {
   "cell_type": "code",
   "execution_count": null,
   "metadata": {
    "collapsed": false
   },
   "outputs": [],
   "source": [
    "def colorize(self, direction, surface, scene):\n",
    "    to_surface = subtract(surface, self.position)\n",
    "    to_light = subtract(scene.lights, surface)\n",
    "    intensity = max(scene.ambient,\n",
    "                    dot(normalize(to_light), normalize(to_surface)))\n",
    "    return scale(self.color, intensity)\n",
    "\n",
    "Sphere.colorize = colorize\n",
    "render()"
   ]
  },
  {
   "cell_type": "markdown",
   "metadata": {},
   "source": [
    "That is more like it!\n",
    "\n",
    "We can also modify the scene to include multiple objects. We do that by redefining the **default_scene** method. Here is an example of that."
   ]
  },
  {
   "cell_type": "code",
   "execution_count": null,
   "metadata": {
    "collapsed": false
   },
   "outputs": [],
   "source": [
    "def default_scene():\n",
    "    # Two spheres now, with colors!\n",
    "    objects = [\n",
    "        Sphere(1, (0,0,5), (0,255,255)),\n",
    "        Sphere(1, (1,0,5), (255,0,255)),\n",
    "    ]\n",
    "    lights = (2,2,0)\n",
    "    camera = (0,0,1)\n",
    "    ambient = 0.2\n",
    "    return Scene(objects, lights, camera, ambient)\n",
    "\n",
    "render()"
   ]
  },
  {
   "cell_type": "markdown",
   "metadata": {
    "collapsed": true
   },
   "source": [
    "## What's next?\n",
    "From here you can modify the ray tracer in countless ways. You could add new material types (reflective, different shading types, glass), you could add casted shadows, new shape types (planes, boxes), you can add textures.\n",
    "\n",
    "Another option would be to programatically generate a scene. What are we able to render using just spheres? Could we general sphere locations/sizes using an algorithm to create a cool piece of art? Lets see an example of that..."
   ]
  },
  {
   "cell_type": "code",
   "execution_count": null,
   "metadata": {
    "collapsed": false
   },
   "outputs": [],
   "source": [
    "def default_scene():\n",
    "    objects = []\n",
    "    y = -5\n",
    "    for i in range(1, 10):\n",
    "        objects.append(Sphere(i/5, (0,y,15), (255-25*i,25*i,0)))\n",
    "        y += i/5\n",
    "    lights = (2,2,0)\n",
    "    camera = (0,0,1)\n",
    "    ambient = 0.2\n",
    "    return Scene(objects, lights, camera, ambient)\n",
    "\n",
    "render()"
   ]
  },
  {
   "cell_type": "markdown",
   "metadata": {},
   "source": [
    "Some kind of worm?? Who knows!\n",
    "\n",
    "Here are some ideas of projects you could create with this starter code:\n",
    "\n",
    "### Project Ideas\n",
    "\n",
    "* Add some features to the raytracer\n",
    "    * Reflections, glass objects (quite advanced)\n",
    "    * Other shapes\n",
    "    * Textures on the surfaces\n",
    "* Write code to generate a cool looking scene\n",
    "    * This can either be realistic or abstract\n",
    "* If you arent interested in raytracing, you can create other types of images like the gradient"
   ]
  }
 ],
 "metadata": {
  "kernelspec": {
   "display_name": "Python 3",
   "language": "python",
   "name": "python3"
  },
  "language_info": {
   "codemirror_mode": {
    "name": "ipython",
    "version": 3
   },
   "file_extension": ".py",
   "mimetype": "text/x-python",
   "name": "python",
   "nbconvert_exporter": "python",
   "pygments_lexer": "ipython3",
   "version": "3.5.1"
  }
 },
 "nbformat": 4,
 "nbformat_minor": 1
}
